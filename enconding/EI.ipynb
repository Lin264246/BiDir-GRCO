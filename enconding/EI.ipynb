{
 "cells": [
  {
   "cell_type": "markdown",
   "metadata": {},
   "source": [
    "# Amide Coupling Reaction Dataset"
   ]
  },
  {
   "cell_type": "code",
   "execution_count": 8,
   "metadata": {},
   "outputs": [],
   "source": [
    "import pandas as pd\n",
    "data=pd.read_csv(r'C:\\Users\\Administrator\\Desktop\\论文\\final_data\\ami\\ami_data\\amidation.csv')\n",
    "base_name=data['base_name'].unique()\n",
    "solvent_name=data['solvent_name'].unique()\n",
    "activator_name=data['activator_name'].unique()\n",
    "nucleophile_name=data['nucleophile_name'].unique()\n",
    "base_smiles=data['base_smiles'].unique()\n",
    "solvent_smiles=data['solvent_smiles'].unique()\n",
    "activator_smiles=data['activator_smiles'].unique()\n",
    "nucleophile_smiles=data['nucleophile_smiles'].unique()"
   ]
  },
  {
   "cell_type": "code",
   "execution_count": 9,
   "metadata": {},
   "outputs": [],
   "source": [
    "\n",
    "from rdkit import Chem\n",
    "from rdkit.Chem.EState import Fingerprinter\n",
    "import numpy as np\n",
    "import pandas as pd\n",
    "\n",
    "smiles=[solvent_smiles,activator_smiles,base_smiles,nucleophile_smiles]\n",
    "names=['solvent','activator','base','nucleophile']\n",
    "for i in range(len(smiles)):\n",
    "    mols = [Fingerprinter.FingerprintMol(Chem.MolFromSmiles(smi))[1] for smi in smiles[i]]\n",
    "    data1=pd.DataFrame(smiles[i])\n",
    "    data2 = pd.DataFrame(mols)\n",
    "    data=pd.concat([data1,data2],axis=1)\n",
    "    data.to_csv(fr\"C:\\Users\\Administrator\\Desktop\\supply data\\Amide Coupling\\{names[i]}_EI.csv\", index=False)"
   ]
  },
  {
   "cell_type": "markdown",
   "metadata": {},
   "source": [
    "# Deoxyfluorination"
   ]
  },
  {
   "cell_type": "code",
   "execution_count": 3,
   "metadata": {},
   "outputs": [
    {
     "name": "stdout",
     "output_type": "stream",
     "text": [
      "['DBU' 'MTBD' 'BTMG' 'BTPP']\n",
      "['3-Cl' 'PyFluor' '3-CF3' '3-NO2' 'PBSF']\n",
      "['s1' 's2' 's3' 's4' 's5' 's6' 's7' 's8' 's9' 's10' 's11' 's12' 's13'\n",
      " 's14' 's15' 's16' 's17' 's18' 's19' 's20' 's21' 's22' 's23' 's24' 's25'\n",
      " 's26' 's27' 's28' 's29' 's30' 's31' 's32' 's33' 's34' 's35' 's36' 's37']\n"
     ]
    }
   ],
   "source": [
    "import pandas as pd\n",
    "import numpy as np\n",
    "data_file=pd.read_csv(r'C:\\Users\\Administrator\\Desktop\\supply data\\Deoxyfluorination\\deoxyf.csv')\n",
    "\n",
    "base_name=data_file['base_name'].unique()\n",
    "print(base_name)\n",
    "fluoride_name=data_file['fluoride_name'].unique()\n",
    "print(fluoride_name)\n",
    "substrate_name=data_file['substrate_name'].unique()\n",
    "print(substrate_name)\n",
    "base_smiles=data_file['base_smiles'].unique()\n",
    "fluoride_smiles=data_file['fluoride_smiles'].unique()\n",
    "substrate_smiles=data_file['substrate_smiles'].unique()"
   ]
  },
  {
   "cell_type": "code",
   "execution_count": 6,
   "metadata": {},
   "outputs": [],
   "source": [
    "from rdkit import Chem\n",
    "from rdkit.Chem.EState import Fingerprinter\n",
    "import numpy as np\n",
    "import pandas as pd\n",
    "smiles=[substrate_smiles,fluoride_smiles,base_smiles]\n",
    "names=['substrate','fluoride','base']\n",
    "for i in range(len(smiles)):\n",
    "    mols = [Fingerprinter.FingerprintMol(Chem.MolFromSmiles(smi))[1] for smi in smiles[i]]\n",
    "    data1=pd.DataFrame(smiles[i])\n",
    "    data2 = pd.DataFrame(mols)\n",
    "    data=pd.concat([data1,data2],axis=1)\n",
    "    data.to_csv(fr\"C:\\Users\\Administrator\\Desktop\\supply data\\Deoxyfluorination\\{names[i]}_EI.csv\", index=False)"
   ]
  },
  {
   "cell_type": "markdown",
   "metadata": {},
   "source": [
    "# Ni-catalyzed borylation"
   ]
  },
  {
   "cell_type": "code",
   "execution_count": 10,
   "metadata": {},
   "outputs": [],
   "source": [
    "data_file=pd.read_csv(r'C:\\Users\\Administrator\\Desktop\\supply data\\Ni-catalyzed borylation\\inchi.csv')\n",
    "electrophile_name=data_file['electrophile_name'].unique()\n",
    "ligand_name\t=data_file['ligand_name'].unique()\n",
    "electrophile_inchi=data_file['electrophile_inchi'].unique()\n",
    "ligand_inchi=data_file['ligand_inchi'].unique()\n",
    "electrophile_smiles=pd.read_csv(r'C:\\Users\\Administrator\\Desktop\\supply data\\Ni-catalyzed borylation\\electrophile_smiles.csv')\n",
    "electrophile_smiles=electrophile_smiles['electrophile_smiles'].unique()\n",
    "ligand_smiles=pd.read_csv(r'C:\\Users\\Administrator\\Desktop\\supply data\\Ni-catalyzed borylation\\ligand_smiles.csv')\n",
    "ligand_smiles=ligand_smiles['ligand_smiles'].unique()"
   ]
  },
  {
   "cell_type": "code",
   "execution_count": 12,
   "metadata": {},
   "outputs": [],
   "source": [
    "\n",
    "from rdkit import Chem\n",
    "\n",
    "from rdkit.Chem.EState import Fingerprinter\n",
    "\n",
    "import pandas as pd\n",
    "\n",
    "smiles=[ligand_smiles,electrophile_smiles]\n",
    "names=['ligand','electrophile']\n",
    "for i in range(len(smiles)):\n",
    "    mols = [Fingerprinter.FingerprintMol(Chem.MolFromSmiles(smi))[1] for smi in smiles[i]]\n",
    "    data1=pd.DataFrame(smiles[i])\n",
    "    data2 = pd.DataFrame(mols)\n",
    "    data=pd.concat([data1,data2],axis=1)\n",
    "    data.to_csv(fr\"C:\\Users\\Administrator\\Desktop\\supply data\\Ni-catalyzed borylation\\{names[i]}_EI.csv\", index=False)"
   ]
  },
  {
   "cell_type": "markdown",
   "metadata": {},
   "source": [
    "# C–N Cross-Coupling"
   ]
  },
  {
   "cell_type": "code",
   "execution_count": 13,
   "metadata": {},
   "outputs": [
    {
     "data": {
      "text/plain": [
       "array(['o1nccc1c2ccccc2', 'CCOC(=O)c1onc(C)c1', 'CCOC(=O)c1cc(C)on1',\n",
       "       'Cc1oncc1', 'o1cc2ccccc2n1', 'Cc1onc(C)c1', 'COC(=O)c1oncc1',\n",
       "       'CCOC(=O)c1ccon1', 'CCOC(=O)c1cnoc1C', 'CCOC(=O)c1conc1',\n",
       "       'o1ncc2ccccc12', 'CCOC(=O)c1onc(OC)c1', 'Cc1cc(on1)c2ccccc2',\n",
       "       'C(N(Cc1ccccc1)c2ccon2)c3ccccc3', 'COC(=O)c1cc(on1)c2occc2',\n",
       "       'Fc1cccc(F)c1c2oncc2', 'C(N(Cc1ccccc1)c2oncc2)c3ccccc3',\n",
       "       'Cc1onc(c1)n2cccc2', 'COC(=O)c1cc(on1)c2sccc2'], dtype=object)"
      ]
     },
     "execution_count": 13,
     "metadata": {},
     "output_type": "execute_result"
    }
   ],
   "source": [
    "import pandas as pd\n",
    "import numpy as np\n",
    "data_file=pd.read_csv(r'C:\\Users\\Administrator\\Desktop\\supply data\\C–N Cross-Coupling\\cn-processed.csv')\n",
    "base_smiles=data_file['base_smiles'].unique()\n",
    "ligand_smiles=data_file['ligand_smiles'].unique()\n",
    "substrate_smiles=data_file['substrate_smiles'].unique()\n",
    "additive_smiles=data_file['additive_smiles'].unique()\n",
    "\n",
    "additive_id=data_file['additive_id'].unique()\n",
    "substrate_id=data_file['substrate_id'].unique()\n",
    "base_name=data_file['base_name'].unique()\n",
    "ligand_name=data_file['ligand_name'].unique()\n",
    "#delete the first element(additive is none) of additive_smiles\n",
    "additive_smiles=additive_smiles[1:]\n",
    "additive_smiles"
   ]
  },
  {
   "cell_type": "code",
   "execution_count": 14,
   "metadata": {},
   "outputs": [],
   "source": [
    "\n",
    "from rdkit import Chem\n",
    "\n",
    "from rdkit.Chem.EState import Fingerprinter\n",
    "\n",
    "import pandas as pd\n",
    "\n",
    "smiles=[ligand_smiles,substrate_smiles,additive_smiles,base_smiles]\n",
    "names=['ligand','substrate','additive','base']\n",
    "for i in range(len(smiles)):\n",
    "    mols = [Fingerprinter.FingerprintMol(Chem.MolFromSmiles(smi))[1] for smi in smiles[i]]\n",
    "    data1=pd.DataFrame(smiles[i])\n",
    "    data2 = pd.DataFrame(mols)\n",
    "    data=pd.concat([data1,data2],axis=1)\n",
    "    data.to_csv(fr\"C:\\Users\\Administrator\\Desktop\\supply data\\C–N Cross-Coupling\\{names[i]}_EI.csv\", index=False)\n",
    "# Manually add the first row, with the additive labeled as 'none' encoded as an all-zero vector"
   ]
  }
 ],
 "metadata": {
  "kernelspec": {
   "display_name": "encoding",
   "language": "python",
   "name": "python3"
  },
  "language_info": {
   "codemirror_mode": {
    "name": "ipython",
    "version": 3
   },
   "file_extension": ".py",
   "mimetype": "text/x-python",
   "name": "python",
   "nbconvert_exporter": "python",
   "pygments_lexer": "ipython3",
   "version": "3.9.20"
  }
 },
 "nbformat": 4,
 "nbformat_minor": 2
}
