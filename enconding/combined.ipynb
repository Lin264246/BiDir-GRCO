{
 "cells": [
  {
   "cell_type": "markdown",
   "metadata": {
    "vscode": {
     "languageId": "bat"
    }
   },
   "source": [
    "# C–N Cross-Coupling"
   ]
  },
  {
   "cell_type": "code",
   "execution_count": 2,
   "metadata": {},
   "outputs": [],
   "source": [
    "import pandas as pd\n",
    "import numpy as np\n",
    "data_file=pd.read_csv(r'C:\\Users\\Administrator\\Desktop\\supply data\\C–N Cross-Coupling\\cn-processed.csv')\n",
    "base_smiles=data_file['base_smiles'].unique()\n",
    "ligand_smiles=data_file['ligand_smiles'].unique()\n",
    "substrate_smiles=data_file['substrate_smiles'].unique()\n",
    "additive_smiles=data_file['additive_smiles'].unique()\n",
    "\n",
    "additive_id=data_file['additive_id'].unique()\n",
    "substrate_id=data_file['substrate_id'].unique()\n",
    "base_name=data_file['base_name'].unique()\n",
    "ligand_name=data_file['ligand_name'].unique()\n"
   ]
  },
  {
   "cell_type": "markdown",
   "metadata": {},
   "source": [
    "# smiles_to_id"
   ]
  },
  {
   "cell_type": "code",
   "execution_count": 3,
   "metadata": {},
   "outputs": [],
   "source": [
    "names=['ligand','substrate','additive','base']\n",
    "id=[ligand_name,substrate_id,additive_id,base_name]\n",
    "enconding=['EI','CM','Mordred','Morgan']\n",
    "for i in range(len(names)):\n",
    "    for j in range(len(enconding)):\n",
    "        data2=pd.read_csv(fr\"C:\\Users\\Administrator\\Desktop\\supply data\\C–N Cross-Coupling\\{names[i]}_{enconding[j]}.csv\")\n",
    "        data1=pd.DataFrame(id[i],columns=['id'])\n",
    "        data=pd.concat([data1,data2],axis=1)\n",
    "        data=data.drop(columns=['0'])\n",
    "        data.to_csv(fr\"C:\\Users\\Administrator\\Desktop\\supply data\\C–N Cross-Coupling\\{names[i]}_id_{enconding[j]}.csv\",index=False)\n",
    "     "
   ]
  },
  {
   "cell_type": "markdown",
   "metadata": {},
   "source": [
    "# combined base and Ligand"
   ]
  },
  {
   "cell_type": "code",
   "execution_count": 4,
   "metadata": {},
   "outputs": [],
   "source": [
    "import pandas as pd\n",
    "import os\n",
    "from itertools import product\n",
    "\n",
    "enconding = ['EI', 'CM', 'Mordred', 'Morgan']\n",
    "for i in range(len(enconding)):\n",
    "    data = []\n",
    "    data_base = pd.read_csv(fr\"C:\\Users\\Administrator\\Desktop\\supply data\\C–N Cross-Coupling\\base_id_{enconding[i]}.csv\")\n",
    "    data_ligand = pd.read_csv(fr\"C:\\Users\\Administrator\\Desktop\\supply data\\C–N Cross-Coupling\\ligand_id_{enconding[i]}.csv\")\n",
    "    for base, ligand in product(data_base.values, data_ligand.values):\n",
    "        combined_name = f\"{base[0]}+{ligand[0]}\"\n",
    "\n",
    "        data.append([combined_name] + list(base[1:]) + list(ligand[1:]))\n",
    "    data = pd.DataFrame(data, columns=['base_ligand'] + \n",
    "                        list(data_base.columns[1:]) + list(data_ligand.columns[1:]))\n",
    "    data.to_csv(fr\"C:\\Users\\Administrator\\Desktop\\supply data\\C–N Cross-Coupling\\base_ligand_{enconding[i]}.csv\", index=False)\n"
   ]
  },
  {
   "cell_type": "markdown",
   "metadata": {},
   "source": [
    "# combined additive and substrate"
   ]
  },
  {
   "cell_type": "code",
   "execution_count": 8,
   "metadata": {},
   "outputs": [],
   "source": [
    "import pandas as pd\n",
    "from itertools import product\n",
    "\n",
    "\n",
    "enconding = ['EI', 'CM', 'Mordred', 'Morgan']\n",
    "\n",
    "for i in range(len(enconding)):\n",
    "    data = []\n",
    "\n",
    "    data_additive = pd.read_csv(fr\"C:\\Users\\Administrator\\Desktop\\supply data\\C–N Cross-Coupling\\additive_id_{enconding[i]}.csv\")  \n",
    "    data_substrate = pd.read_csv(fr\"C:\\Users\\Administrator\\Desktop\\supply data\\C–N Cross-Coupling\\substrate_id_{enconding[i]}.csv\")  \n",
    "\n",
    "    for  additive, substrate in product(data_additive.values, data_substrate.values):\n",
    "\n",
    "        combined_name = f\"{additive[0]}+{substrate[0]}\"\n",
    "\n",
    "        data.append([combined_name] + list(additive[1:])+ list(substrate[1:]))\n",
    "\n",
    "    data = pd.DataFrame(data,columns=['additive_substrate'] + list(data_additive.columns[1:])+ list(data_substrate.columns[1:]))\n",
    "    data.to_csv(fr\"C:\\Users\\Administrator\\Desktop\\supply data\\C–N Cross-Coupling\\additive_substrate_{enconding[i]}.csv\", index=False)"
   ]
  },
  {
   "cell_type": "markdown",
   "metadata": {},
   "source": [
    "# Deoxyfluorination"
   ]
  },
  {
   "cell_type": "code",
   "execution_count": 34,
   "metadata": {},
   "outputs": [
    {
     "name": "stdout",
     "output_type": "stream",
     "text": [
      "['DBU' 'MTBD' 'BTMG' 'BTPP']\n",
      "['3-Cl' 'PyFluor' '3-CF3' '3-NO2' 'PBSF']\n",
      "['s1' 's2' 's3' 's4' 's5' 's6' 's7' 's8' 's9' 's10' 's11' 's12' 's13'\n",
      " 's14' 's15' 's16' 's17' 's18' 's19' 's20' 's21' 's22' 's23' 's24' 's25'\n",
      " 's26' 's27' 's28' 's29' 's30' 's31' 's32' 's33' 's34' 's35' 's36' 's37']\n"
     ]
    }
   ],
   "source": [
    "import pandas as pd\n",
    "import numpy as np\n",
    "data_file=pd.read_csv(r'C:\\Users\\Administrator\\Desktop\\supply data\\Deoxyfluorination\\deoxyf.csv')\n",
    "\n",
    "base_name=data_file['base_name'].unique()\n",
    "print(base_name)\n",
    "fluoride_name=data_file['fluoride_name'].unique()\n",
    "print(fluoride_name)\n",
    "substrate_name=data_file['substrate_name'].unique()\n",
    "print(substrate_name)\n",
    "base_smiles=data_file['base_smiles'].unique()\n",
    "fluoride_smiles=data_file['fluoride_smiles'].unique()\n",
    "substrate_smiles=data_file['substrate_smiles'].unique()"
   ]
  },
  {
   "cell_type": "markdown",
   "metadata": {},
   "source": [
    "# smiles_to_id"
   ]
  },
  {
   "cell_type": "code",
   "execution_count": 35,
   "metadata": {},
   "outputs": [],
   "source": [
    "\n",
    "id=[substrate_name,fluoride_name,base_name]\n",
    "names=['substrate','fluoride','base']\n",
    "enconding=['EI','CM','Mordred','Morgan']\n",
    "for i in range(len(names)):\n",
    "    for j in range(len(enconding)):\n",
    "        data2=pd.read_csv(fr\"C:\\Users\\Administrator\\Desktop\\supply data\\Deoxyfluorination\\{names[i]}_{enconding[j]}.csv\")\n",
    "        #插入\n",
    "        data1=pd.DataFrame(id[i],columns=['id'])\n",
    "        \n",
    "        data=pd.concat([data1,data2],axis=1)\n",
    "        data=data.drop(columns=['0'])\n",
    "        data.to_csv(fr\"C:\\Users\\Administrator\\Desktop\\supply data\\Deoxyfluorination\\{names[i]}_id_{enconding[j]}.csv\",index=False)\n",
    "     "
   ]
  },
  {
   "cell_type": "markdown",
   "metadata": {},
   "source": [
    "# combined base and fluoride"
   ]
  },
  {
   "cell_type": "code",
   "execution_count": 36,
   "metadata": {},
   "outputs": [],
   "source": [
    "import pandas as pd\n",
    "from itertools import product\n",
    "\n",
    "\n",
    "enconding = ['EI', 'CM', 'Mordred', 'Morgan']\n",
    "\n",
    "for i in range(len(enconding)):\n",
    "    data = []\n",
    "    base_data = pd.read_csv(fr\"C:\\Users\\Administrator\\Desktop\\supply data\\Deoxyfluorination\\base_id_{enconding[i]}.csv\")\n",
    "    fluoride_data = pd.read_csv(fr\"C:\\Users\\Administrator\\Desktop\\supply data\\Deoxyfluorination\\fluoride_id_{enconding[i]}.csv\")\n",
    "    for base, fluoride in product(base_data.values, fluoride_data.values):\n",
    " \n",
    "        combined_name = f\"{base[0]}+{fluoride[0]}\"\n",
    "\n",
    "        data.append([combined_name] + list(base[1:]) + list(fluoride[1:]))\n",
    "\n",
    "    data = pd.DataFrame(data, columns=['base_fluoride'] + \n",
    "                        list(base_data.columns[1:]) + list(fluoride_data.columns[1:]))\n",
    "    data.to_csv(fr\"C:\\Users\\Administrator\\Desktop\\supply data\\Deoxyfluorination\\base_fluoride_{enconding[i]}.csv\", index=False)"
   ]
  },
  {
   "cell_type": "markdown",
   "metadata": {},
   "source": [
    "# Amide Coupling Reaction Dataset"
   ]
  },
  {
   "cell_type": "code",
   "execution_count": 42,
   "metadata": {},
   "outputs": [],
   "source": [
    "import pandas as pd\n",
    "data=pd.read_csv(r'C:\\Users\\Administrator\\Desktop\\论文\\final_data\\ami\\ami_data\\amidation.csv')\n",
    "base_name=data['base_name'].unique()\n",
    "solvent_name=data['solvent_name'].unique()\n",
    "activator_name=data['activator_name'].unique()\n",
    "nucleophile_name=data['nucleophile_name'].unique()\n",
    "base_smiles=data['base_smiles'].unique()\n",
    "solvent_smiles=data['solvent_smiles'].unique()\n",
    "activator_smiles=data['activator_smiles'].unique()\n",
    "nucleophile_smiles=data['nucleophile_smiles'].unique()"
   ]
  },
  {
   "cell_type": "markdown",
   "metadata": {},
   "source": [
    "# smiles_to_id"
   ]
  },
  {
   "cell_type": "code",
   "execution_count": 43,
   "metadata": {},
   "outputs": [],
   "source": [
    "\n",
    "id=[solvent_name,activator_name,base_name,nucleophile_name]\n",
    "names=['solvent','activator','base','nucleophile']\n",
    "\n",
    "enconding=['EI','CM','Mordred','Morgan']\n",
    "\n",
    "for i in range(len(names)):\n",
    "    for j in range(len(enconding)):\n",
    "        data2=pd.read_csv(fr\"C:\\Users\\Administrator\\Desktop\\supply data\\Amide Coupling\\{names[i]}_{enconding[j]}.csv\")\n",
    "        #插入\n",
    "        data1=pd.DataFrame(id[i],columns=['id'])\n",
    "        \n",
    "        data=pd.concat([data1,data2],axis=1)\n",
    "        data=data.drop(columns=['0'])\n",
    "        data.to_csv(fr\"C:\\Users\\Administrator\\Desktop\\supply data\\Amide Coupling\\{names[i]}_id_{enconding[j]}.csv\",index=False)\n"
   ]
  },
  {
   "cell_type": "markdown",
   "metadata": {},
   "source": [
    "# combined base ,solvent ,activator"
   ]
  },
  {
   "cell_type": "code",
   "execution_count": 44,
   "metadata": {},
   "outputs": [],
   "source": [
    "import pandas as pd\n",
    "from itertools import product\n",
    "\n",
    "enconding = ['EI', 'CM', 'Mordred', 'Morgan']\n",
    "for i in range(len(enconding)):\n",
    "    data = []\n",
    "    base_data=pd.read_csv(fr\"C:\\Users\\Administrator\\Desktop\\supply data\\Amide Coupling\\base_id_{enconding[i]}.csv\")\n",
    "    solvent_data=pd.read_csv(fr\"C:\\Users\\Administrator\\Desktop\\supply data\\Amide Coupling\\solvent_id_{enconding[i]}.csv\")\n",
    "    activator_data=pd.read_csv(fr\"C:\\Users\\Administrator\\Desktop\\supply data\\Amide Coupling\\activator_id_{enconding[i]}.csv\")\n",
    "    for base,solvent,activator in product(base_data.values, solvent_data.values,activator_data.values):\n",
    "        combined_name = f\"{base[0]}+{solvent[0]}+{activator[0]}\"\n",
    "        data.append([combined_name] + list(base[1:]) + list(solvent[1:])+list(activator[1:]))\n",
    "\n",
    "    data = pd.DataFrame(data, columns=['base_solvent_aactivator'] + \n",
    "                        list(base_data.columns[1:]) + list(solvent_data.columns[1:])+list(activator_data.columns[1:]))\n",
    "\n",
    "    data.to_csv(fr\"C:\\Users\\Administrator\\Desktop\\supply data\\Amide Coupling\\base_solvent_activator_{enconding[i]}.csv\", index=False)      "
   ]
  },
  {
   "cell_type": "markdown",
   "metadata": {},
   "source": [
    "# Ni-catalyzed borylation"
   ]
  },
  {
   "cell_type": "code",
   "execution_count": 39,
   "metadata": {},
   "outputs": [],
   "source": [
    "import pandas as pd\n",
    "data_file=pd.read_csv(r'C:\\Users\\Administrator\\Desktop\\supply data\\Ni-catalyzed borylation\\inchi.csv')\n",
    "data_file\n",
    "electrophile_name=data_file['electrophile_name'].unique()\n",
    "ligand_name\t=data_file['ligand_name'].unique()\n",
    "electrophile_inchi=data_file['electrophile_inchi'].unique()\n",
    "ligand_inchi=data_file['ligand_inchi'].unique()"
   ]
  },
  {
   "cell_type": "markdown",
   "metadata": {},
   "source": [
    "# smiles_to_id"
   ]
  },
  {
   "cell_type": "code",
   "execution_count": 38,
   "metadata": {},
   "outputs": [],
   "source": [
    "electrophile_name=pd.DataFrame(electrophile_name,columns=['electrophile_name'])\n",
    "electrophile_name.to_csv(r'C:\\Users\\Administrator\\Desktop\\supply data\\Ni-catalyzed borylation\\electrophile_name.csv')\n",
    "ligand_name=pd.DataFrame(ligand_name,columns=['ligand_name'])\n",
    "ligand_name.to_csv(r'C:\\Users\\Administrator\\Desktop\\supply data\\Ni-catalyzed borylation\\ligand_name.csv')"
   ]
  },
  {
   "cell_type": "code",
   "execution_count": 37,
   "metadata": {},
   "outputs": [
    {
     "name": "stdout",
     "output_type": "stream",
     "text": [
      "['CN(C)S(=O)(=O)Oc1ccc2[nH]ccc2c1', 'Brc1ccccc1-c1ccccc1', 'Cc1cc(F)ccc1Cl', 'Cc1cccc(C)c1Cl', 'Cc1nc2cc(OS(=O)(=O)N(C)C)ccc2s1', 'Brc1ccsc1', 'Cc1c(N)cccc1Cl', 'COc1ccc(Br)cc1', 'FC(F)(F)c1ccc(Br)cc1', 'CN(C)C(=O)c1ccc(Cl)cc1', 'Clc1ccc2[nH]ccc2c1', 'CCOC(=O)c1cc(Br)cn1CC', 'CCOC(=O)c1ccc(Cl)c(F)c1', 'COC(=O)c1ccc(Br)cc1', 'CN(C)S(=O)(=O)Oc1ccc2ncccc2c1', 'Brc1cnc2ccccc2c1', 'Cc1ncccc1Br', 'CCOC(=O)C(C)(C)Oc1ccc(Cl)cc1', 'COc1ccc(Br)cc1F', 'N#Cc1ccc(Br)cc1F', 'CN(C)S(=O)(=O)Oc1ccc(-c2ccccc2)cc1', 'Brc1ccc2c(c1)OCO2', 'Brc1ccc2occc2c1', 'COc1cc(Cl)ccc1F', 'FC(F)(F)c1ccc(Cl)cc1', 'Clc1cnc2ccccc2c1', 'COc1ncc(Br)c(OC)n1', 'COC(=O)c1ccc(Cl)cc1', 'Clc1ccc2c(c1)OCO2', 'COc1ccc(Cl)cc1F', 'Clc1ccc(-c2ccccc2)cc1', 'Brc1ccc(-c2ccccc2)cc1', 'N#Cc1ccc(Cl)cc1F']\n",
      "['CN(C)c1ccc(P(c2ccccc2)c2ccccc2)cc1', 'CCCCC1([PH+](C2CCCCC2)C2CCCCC2)c2ccccc2-c2ccccc21.F[B-](F)(F)F', 'c1ccc(-n2cccc2P(C2CCCCC2)C2CCCCC2)cc1', 'c1ccc(-c2nn(-c3ccccc3)c(-c3ccccc3)c2-n2nccc2P(C2CCCCC2)C2CCCCC2)cc1', 'c1ccc(-c2ccccc2P(C2CCCCC2)C2CCCCC2)cc1', 'c1ccc(P(C2CCCCC2)C2CCCCC2)c(-n2c3ccccc3c3ccccc32)c1', 'CC(=C(c1ccccc1)c1ccccc1)P(C1CCCCC1)C1CCCCC1', 'c1ccc(-c2cc3ccccc3n2P(C2CCCCC2)C2CCCCC2)cc1', 'COc1ccccc1C1=C(P(C2CCCCC2)C2CCCCC2)C2c3ccccc3C1c1ccccc12', 'Cc1ccccc1-c1ccccc1P(C1CCCCC1)C1CCCCC1', 'C1CCC([PH+](C2CCCCC2)C2CCCCC2)CC1.F[B-](F)(F)F', 'CN(C)c1ccccc1-c1ccccc1P(c1ccccc1)c1ccccc1', 'COc1cccc(OC)c1-c1ccccc1P(c1ccccc1)c1ccccc1', 'CC(C)c1cc(C(C)C)c(-c2ccccc2P(c2ccccc2)c2ccccc2)c(C(C)C)c1', 'C[PH+](C)C.F[B-](F)(F)F', 'COc1ccccc1P(c1ccccc1OC)c1ccccc1OC', 'COc1ccc(P(c2ccc(OC)cc2)c2ccc(OC)cc2)cc1', 'Fc1ccc(P(c2ccc(F)cc2)c2ccc(F)cc2)cc1', 'c1ccc(P(c2ccccc2)C2CCCCC2)cc1', 'c1ccc(P(c2ccccc2)c2ccccc2)cc1', 'CC(C)(C)P(c1ccccc1)C(C)(C)C', 'Cc1cc(C)cc(P(c2cc(C)cc(C)c2)c2cc(C)cc(C)c2)c1', 'COc1cc(C(C)(C)C)cc(C(C)(C)C)c1-c1ccccc1P(C1CCCCC1)C1CCCCC1']\n"
     ]
    }
   ],
   "source": [
    "import pandas as pd\n",
    "from rdkit import Chem\n",
    "# transform InChI to SMILES\n",
    "def inchi_to_smiles(inchi_list):\n",
    "    smiles_list = []\n",
    "    for inchi in inchi_list:\n",
    "        try:\n",
    "            mol = Chem.MolFromInchi(inchi)\n",
    "            if mol:\n",
    "                smiles = Chem.MolToSmiles(mol)\n",
    "                smiles_list.append(smiles)\n",
    "            else:\n",
    "                smiles_list.append(None)\n",
    "        except Exception as e:\n",
    "            print(f\"Error processing InChI '{inchi}': {e}\")\n",
    "            smiles_list.append(None)\n",
    "    return smiles_list\n",
    "\n",
    "electrophile_smiles_list = inchi_to_smiles(electrophile_inchi )\n",
    "electrophile_smiles=pd.DataFrame(electrophile_smiles_list ,columns=['electrophile_smiles'])\n",
    "print(electrophile_smiles_list)\n",
    "electrophile_smiles.to_csv('electrophile_smiles.csv')\n",
    "ligand_smiles_list = inchi_to_smiles(ligand_inchi )\n",
    "ligand_smiles=pd.DataFrame(ligand_smiles_list ,columns=['ligand_smiles'])\n",
    "print(ligand_smiles_list)\n",
    "ligand_smiles.to_csv('ligand_smiles.csv')"
   ]
  },
  {
   "cell_type": "markdown",
   "metadata": {},
   "source": [
    "# smiles to name"
   ]
  },
  {
   "cell_type": "code",
   "execution_count": null,
   "metadata": {},
   "outputs": [],
   "source": [
    "\n",
    "\n",
    "id=[ligand_name,electrophile_name]\n",
    "names=['ligand','electrophile']\n",
    "enconding=['EI','CM','Mordred','Morgan']\n",
    "for i in range(2):\n",
    "    for j in range(4):\n",
    "        data2=pd.read_csv(fr\"C:\\Users\\Administrator\\Desktop\\supply data\\Ni-catalyzed borylation\\{names[i]}_{enconding[j]}.csv\")\n",
    "        data1=pd.DataFrame(id[i],columns=['id'])\n",
    "        \n",
    "        data=pd.concat([data1,data2],axis=1)\n",
    "        data=data.drop(columns=['0'])\n",
    "        data.to_csv(fr\"C:\\Users\\Administrator\\Desktop\\supply data\\Ni-catalyzed borylation\\{names[i]}_id_{enconding[j]}.csv\",index=False)\n",
    "        "
   ]
  }
 ],
 "metadata": {
  "kernelspec": {
   "display_name": "encoding",
   "language": "python",
   "name": "python3"
  },
  "language_info": {
   "codemirror_mode": {
    "name": "ipython",
    "version": 3
   },
   "file_extension": ".py",
   "mimetype": "text/x-python",
   "name": "python",
   "nbconvert_exporter": "python",
   "pygments_lexer": "ipython3",
   "version": "3.9.20"
  }
 },
 "nbformat": 4,
 "nbformat_minor": 2
}
